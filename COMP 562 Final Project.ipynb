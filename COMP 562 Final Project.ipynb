{
 "cells": [
  {
   "cell_type": "markdown",
   "metadata": {},
   "source": [
    "# <center>COMP 562 Final Project</center>\n",
    "## <center>By: Elise Dixon</center>\n",
    "\n",
    "    Data Exploration and Machine Learning Analysis of mental health dataset gathered by Open Sourcing Mental Illness(OSMI) through their Mental Health in Tech Survey. This survey was gathered in the year 2016 with over 1400 entries. This notebook will look into the question of whether a person will seek treatment taking into consideration different life factors."
   ]
  },
  {
   "cell_type": "markdown",
   "metadata": {},
   "source": [
    "### Setup"
   ]
  },
  {
   "cell_type": "code",
   "execution_count": 278,
   "metadata": {
    "collapsed": true
   },
   "outputs": [],
   "source": [
    "import itertools\n",
    "import matplotlib.pyplot as plt\n",
    "%matplotlib inline"
   ]
  },
  {
   "cell_type": "code",
   "execution_count": 279,
   "metadata": {
    "collapsed": true
   },
   "outputs": [],
   "source": [
    "import numpy as np\n",
    "import pandas as pd\n",
    "import matplotlib.pyplot as plt\n",
    "import math\n",
    "\n",
    "from sklearn import preprocessing\n",
    "from sklearn.preprocessing import binarize, LabelEncoder, MinMaxScaler\n",
    "from sklearn.metrics import classification_report, confusion_matrix\n",
    "from sklearn.model_selection import cross_val_score\n",
    "from sklearn import metrics\n",
    "\n",
    "%matplotlib inline"
   ]
  },
  {
   "cell_type": "markdown",
   "metadata": {},
   "source": [
    "### Load Data"
   ]
  },
  {
   "cell_type": "code",
   "execution_count": 280,
   "metadata": {},
   "outputs": [
    {
     "data": {
      "text/html": [
       "<div>\n",
       "<style scoped>\n",
       "    .dataframe tbody tr th:only-of-type {\n",
       "        vertical-align: middle;\n",
       "    }\n",
       "\n",
       "    .dataframe tbody tr th {\n",
       "        vertical-align: top;\n",
       "    }\n",
       "\n",
       "    .dataframe thead th {\n",
       "        text-align: right;\n",
       "    }\n",
       "</style>\n",
       "<table border=\"1\" class=\"dataframe\">\n",
       "  <thead>\n",
       "    <tr style=\"text-align: right;\">\n",
       "      <th></th>\n",
       "      <th>self_employed</th>\n",
       "      <th>num_employees</th>\n",
       "      <th>tech_company</th>\n",
       "      <th>role</th>\n",
       "      <th>mental_health_benefits</th>\n",
       "      <th>knowledge_of_mental_healthcare_coverage</th>\n",
       "      <th>employer_discussed_mental_health</th>\n",
       "      <th>employer_offer_resources</th>\n",
       "      <th>anonymity_protected</th>\n",
       "      <th>asking_for_leave</th>\n",
       "      <th>...</th>\n",
       "      <th>bad_response_to_mental_health_at_work</th>\n",
       "      <th>family_history</th>\n",
       "      <th>had_disorder_in_past</th>\n",
       "      <th>have_disorder</th>\n",
       "      <th>been_diagnosed</th>\n",
       "      <th>sought_treatment</th>\n",
       "      <th>interferes_with_work_if_treated_effectively</th>\n",
       "      <th>age</th>\n",
       "      <th>gender</th>\n",
       "      <th>work_remotely</th>\n",
       "    </tr>\n",
       "  </thead>\n",
       "  <tbody>\n",
       "    <tr>\n",
       "      <th>0</th>\n",
       "      <td>0</td>\n",
       "      <td>26-100</td>\n",
       "      <td>1.0</td>\n",
       "      <td>NaN</td>\n",
       "      <td>Not eligible for coverage / N/A</td>\n",
       "      <td>NaN</td>\n",
       "      <td>No</td>\n",
       "      <td>No</td>\n",
       "      <td>I don't know</td>\n",
       "      <td>Very easy</td>\n",
       "      <td>...</td>\n",
       "      <td>No</td>\n",
       "      <td>No</td>\n",
       "      <td>Yes</td>\n",
       "      <td>No</td>\n",
       "      <td>Yes</td>\n",
       "      <td>0</td>\n",
       "      <td>Not applicable to me</td>\n",
       "      <td>39</td>\n",
       "      <td>Male</td>\n",
       "      <td>Sometimes</td>\n",
       "    </tr>\n",
       "    <tr>\n",
       "      <th>1</th>\n",
       "      <td>0</td>\n",
       "      <td>6-25</td>\n",
       "      <td>1.0</td>\n",
       "      <td>NaN</td>\n",
       "      <td>No</td>\n",
       "      <td>Yes</td>\n",
       "      <td>Yes</td>\n",
       "      <td>Yes</td>\n",
       "      <td>Yes</td>\n",
       "      <td>Somewhat easy</td>\n",
       "      <td>...</td>\n",
       "      <td>No</td>\n",
       "      <td>Yes</td>\n",
       "      <td>Yes</td>\n",
       "      <td>Yes</td>\n",
       "      <td>Yes</td>\n",
       "      <td>1</td>\n",
       "      <td>Rarely</td>\n",
       "      <td>29</td>\n",
       "      <td>male</td>\n",
       "      <td>Never</td>\n",
       "    </tr>\n",
       "    <tr>\n",
       "      <th>2</th>\n",
       "      <td>0</td>\n",
       "      <td>6-25</td>\n",
       "      <td>1.0</td>\n",
       "      <td>NaN</td>\n",
       "      <td>No</td>\n",
       "      <td>NaN</td>\n",
       "      <td>No</td>\n",
       "      <td>No</td>\n",
       "      <td>I don't know</td>\n",
       "      <td>Neither easy nor difficult</td>\n",
       "      <td>...</td>\n",
       "      <td>Maybe/Not sure</td>\n",
       "      <td>No</td>\n",
       "      <td>Maybe</td>\n",
       "      <td>No</td>\n",
       "      <td>No</td>\n",
       "      <td>1</td>\n",
       "      <td>Not applicable to me</td>\n",
       "      <td>38</td>\n",
       "      <td>Male</td>\n",
       "      <td>Always</td>\n",
       "    </tr>\n",
       "    <tr>\n",
       "      <th>3</th>\n",
       "      <td>1</td>\n",
       "      <td>NaN</td>\n",
       "      <td>NaN</td>\n",
       "      <td>NaN</td>\n",
       "      <td>NaN</td>\n",
       "      <td>NaN</td>\n",
       "      <td>NaN</td>\n",
       "      <td>NaN</td>\n",
       "      <td>NaN</td>\n",
       "      <td>NaN</td>\n",
       "      <td>...</td>\n",
       "      <td>No</td>\n",
       "      <td>No</td>\n",
       "      <td>Yes</td>\n",
       "      <td>Yes</td>\n",
       "      <td>Yes</td>\n",
       "      <td>1</td>\n",
       "      <td>Sometimes</td>\n",
       "      <td>43</td>\n",
       "      <td>male</td>\n",
       "      <td>Sometimes</td>\n",
       "    </tr>\n",
       "    <tr>\n",
       "      <th>4</th>\n",
       "      <td>0</td>\n",
       "      <td>6-25</td>\n",
       "      <td>0.0</td>\n",
       "      <td>1.0</td>\n",
       "      <td>Yes</td>\n",
       "      <td>Yes</td>\n",
       "      <td>No</td>\n",
       "      <td>No</td>\n",
       "      <td>No</td>\n",
       "      <td>Neither easy nor difficult</td>\n",
       "      <td>...</td>\n",
       "      <td>Yes, I experienced</td>\n",
       "      <td>Yes</td>\n",
       "      <td>Yes</td>\n",
       "      <td>Yes</td>\n",
       "      <td>Yes</td>\n",
       "      <td>1</td>\n",
       "      <td>Sometimes</td>\n",
       "      <td>43</td>\n",
       "      <td>Female</td>\n",
       "      <td>Sometimes</td>\n",
       "    </tr>\n",
       "  </tbody>\n",
       "</table>\n",
       "<p>5 rows × 37 columns</p>\n",
       "</div>"
      ],
      "text/plain": [
       "   self_employed num_employees  tech_company  role  \\\n",
       "0              0        26-100           1.0   NaN   \n",
       "1              0          6-25           1.0   NaN   \n",
       "2              0          6-25           1.0   NaN   \n",
       "3              1           NaN           NaN   NaN   \n",
       "4              0          6-25           0.0   1.0   \n",
       "\n",
       "            mental_health_benefits knowledge_of_mental_healthcare_coverage  \\\n",
       "0  Not eligible for coverage / N/A                                     NaN   \n",
       "1                               No                                     Yes   \n",
       "2                               No                                     NaN   \n",
       "3                              NaN                                     NaN   \n",
       "4                              Yes                                     Yes   \n",
       "\n",
       "  employer_discussed_mental_health employer_offer_resources  \\\n",
       "0                               No                       No   \n",
       "1                              Yes                      Yes   \n",
       "2                               No                       No   \n",
       "3                              NaN                      NaN   \n",
       "4                               No                       No   \n",
       "\n",
       "  anonymity_protected            asking_for_leave  ...  \\\n",
       "0        I don't know                   Very easy  ...   \n",
       "1                 Yes               Somewhat easy  ...   \n",
       "2        I don't know  Neither easy nor difficult  ...   \n",
       "3                 NaN                         NaN  ...   \n",
       "4                  No  Neither easy nor difficult  ...   \n",
       "\n",
       "  bad_response_to_mental_health_at_work family_history had_disorder_in_past  \\\n",
       "0                                    No             No                  Yes   \n",
       "1                                    No            Yes                  Yes   \n",
       "2                        Maybe/Not sure             No                Maybe   \n",
       "3                                    No             No                  Yes   \n",
       "4                    Yes, I experienced            Yes                  Yes   \n",
       "\n",
       "  have_disorder been_diagnosed sought_treatment  \\\n",
       "0            No            Yes                0   \n",
       "1           Yes            Yes                1   \n",
       "2            No             No                1   \n",
       "3           Yes            Yes                1   \n",
       "4           Yes            Yes                1   \n",
       "\n",
       "   interferes_with_work_if_treated_effectively age  gender work_remotely  \n",
       "0                         Not applicable to me  39    Male     Sometimes  \n",
       "1                                       Rarely  29    male         Never  \n",
       "2                         Not applicable to me  38   Male         Always  \n",
       "3                                    Sometimes  43    male     Sometimes  \n",
       "4                                    Sometimes  43  Female     Sometimes  \n",
       "\n",
       "[5 rows x 37 columns]"
      ]
     },
     "execution_count": 280,
     "metadata": {},
     "output_type": "execute_result"
    }
   ],
   "source": [
    "train_df=pd.read_csv('mental-health-in-tech-2016/mental-health-in-tech-2016_cleaned.csv')\n",
    "train_df.head()"
   ]
  },
  {
   "cell_type": "code",
   "execution_count": 281,
   "metadata": {},
   "outputs": [
    {
     "name": "stdout",
     "output_type": "stream",
     "text": [
      "37\n"
     ]
    },
    {
     "data": {
      "text/plain": [
       "(1433, 37)"
      ]
     },
     "execution_count": 281,
     "metadata": {},
     "output_type": "execute_result"
    }
   ],
   "source": [
    "features=(list(train_df))\n",
    "print(len(features))\n",
    "train_df.shape"
   ]
  },
  {
   "cell_type": "markdown",
   "metadata": {},
   "source": [
    "### Clean Data\n",
    "We will first remove entries that null then standardize the data"
   ]
  },
  {
   "cell_type": "code",
   "execution_count": 282,
   "metadata": {},
   "outputs": [
    {
     "name": "stdout",
     "output_type": "stream",
     "text": [
      "                                                    Number Missing  \\\n",
      "negative_impact_of_revealing_diagnosis                        1289   \n",
      "percentage_work_time_affected                                 1229   \n",
      "role                                                          1170   \n",
      "reveal_diagnosis_with_collegues                               1146   \n",
      "medical_coverage                                              1146   \n",
      "know_of_resources_for_help                                    1146   \n",
      "productivity_affected_mental_health                           1146   \n",
      "knowledge_of_mental_healthcare_coverage                        420   \n",
      "discuss_mental_health_disorder_with_employer                   287   \n",
      "negative_consequences_at_work                                  287   \n",
      "discuss_mental_health_disorder_with_coworkers                  287   \n",
      "believe_negative_consequences_of_employer_discu...             287   \n",
      "asking_for_leave                                               287   \n",
      "discuss_mental_health_disorder_with_supervisor                 287   \n",
      "anonymity_protected                                            287   \n",
      "employer_offer_resources                                       287   \n",
      "employer_discussed_mental_health                               287   \n",
      "mental_health_benefits                                         287   \n",
      "tech_company                                                   287   \n",
      "num_employees                                                  287   \n",
      "employer_mental_health_serious                                 287   \n",
      "bad_response_to_mental_health_at_work                           89   \n",
      "gender                                                           3   \n",
      "work_remotely                                                    0   \n",
      "discuss_physical_health_potential_employer                       0   \n",
      "discuss_mental_health_potential_employer                         0   \n",
      "hurt_career                                                      0   \n",
      "believe_negative_view_from_collegues                             0   \n",
      "share_with_friends_family                                        0   \n",
      "family_history                                                   0   \n",
      "had_disorder_in_past                                             0   \n",
      "have_disorder                                                    0   \n",
      "been_diagnosed                                                   0   \n",
      "sought_treatment                                                 0   \n",
      "interferes_with_work_if_treated_effectively                      0   \n",
      "age                                                              0   \n",
      "self_employed                                                    0   \n",
      "\n",
      "                                                    Percent Missing  \n",
      "negative_impact_of_revealing_diagnosis                     0.899512  \n",
      "percentage_work_time_affected                              0.857641  \n",
      "role                                                       0.816469  \n",
      "reveal_diagnosis_with_collegues                            0.799721  \n",
      "medical_coverage                                           0.799721  \n",
      "know_of_resources_for_help                                 0.799721  \n",
      "productivity_affected_mental_health                        0.799721  \n",
      "knowledge_of_mental_healthcare_coverage                    0.293091  \n",
      "discuss_mental_health_disorder_with_employer               0.200279  \n",
      "negative_consequences_at_work                              0.200279  \n",
      "discuss_mental_health_disorder_with_coworkers              0.200279  \n",
      "believe_negative_consequences_of_employer_discu...         0.200279  \n",
      "asking_for_leave                                           0.200279  \n",
      "discuss_mental_health_disorder_with_supervisor             0.200279  \n",
      "anonymity_protected                                        0.200279  \n",
      "employer_offer_resources                                   0.200279  \n",
      "employer_discussed_mental_health                           0.200279  \n",
      "mental_health_benefits                                     0.200279  \n",
      "tech_company                                               0.200279  \n",
      "num_employees                                              0.200279  \n",
      "employer_mental_health_serious                             0.200279  \n",
      "bad_response_to_mental_health_at_work                      0.062107  \n",
      "gender                                                     0.002094  \n",
      "work_remotely                                              0.000000  \n",
      "discuss_physical_health_potential_employer                 0.000000  \n",
      "discuss_mental_health_potential_employer                   0.000000  \n",
      "hurt_career                                                0.000000  \n",
      "believe_negative_view_from_collegues                       0.000000  \n",
      "share_with_friends_family                                  0.000000  \n",
      "family_history                                             0.000000  \n",
      "had_disorder_in_past                                       0.000000  \n",
      "have_disorder                                              0.000000  \n",
      "been_diagnosed                                             0.000000  \n",
      "sought_treatment                                           0.000000  \n",
      "interferes_with_work_if_treated_effectively                0.000000  \n",
      "age                                                        0.000000  \n",
      "self_employed                                              0.000000  \n"
     ]
    }
   ],
   "source": [
    "# look for unanswered questions -> indicates missing data\n",
    "num_missing = train_df.isnull().sum().sort_values(ascending=False)\n",
    "percent_missing = (train_df.isnull().sum()/train_df.isnull().count()).sort_values(ascending=False)\n",
    "missing_data = pd.concat([num_missing, percent_missing], axis=1, keys=['Number Missing', 'Percent Missing'])\n",
    "missing_data.head(20)\n",
    "print(missing_data)"
   ]
  },
  {
   "cell_type": "code",
   "execution_count": 283,
   "metadata": {},
   "outputs": [
    {
     "name": "stdout",
     "output_type": "stream",
     "text": [
      "['role', 'medical_coverage', 'know_of_resources_for_help', 'reveal_diagnosis_with_collegues', 'negative_impact_of_revealing_diagnosis', 'productivity_affected_mental_health', 'percentage_work_time_affected']\n"
     ]
    }
   ],
   "source": [
    "# remove significantly unanswered questions -> state and comments\n",
    "count=0\n",
    "not_answered=[]\n",
    "for col in features:\n",
    "    if(sum(pd.isnull(train_df[col]))>500):\n",
    "        count=count+1\n",
    "        not_answered.append(col)\n",
    "print(not_answered)\n",
    "train_df.drop([i for i in not_answered],axis=1,inplace=True)"
   ]
  },
  {
   "cell_type": "code",
   "execution_count": 284,
   "metadata": {},
   "outputs": [
    {
     "name": "stdout",
     "output_type": "stream",
     "text": [
      "                                                    Number Missing  \\\n",
      "knowledge_of_mental_healthcare_coverage                        420   \n",
      "negative_consequences_at_work                                  287   \n",
      "employer_mental_health_serious                                 287   \n",
      "num_employees                                                  287   \n",
      "tech_company                                                   287   \n",
      "mental_health_benefits                                         287   \n",
      "employer_discussed_mental_health                               287   \n",
      "employer_offer_resources                                       287   \n",
      "anonymity_protected                                            287   \n",
      "asking_for_leave                                               287   \n",
      "discuss_mental_health_disorder_with_employer                   287   \n",
      "believe_negative_consequences_of_employer_discu...             287   \n",
      "discuss_mental_health_disorder_with_coworkers                  287   \n",
      "discuss_mental_health_disorder_with_supervisor                 287   \n",
      "bad_response_to_mental_health_at_work                           89   \n",
      "gender                                                           3   \n",
      "work_remotely                                                    0   \n",
      "discuss_physical_health_potential_employer                       0   \n",
      "discuss_mental_health_potential_employer                         0   \n",
      "hurt_career                                                      0   \n",
      "believe_negative_view_from_collegues                             0   \n",
      "share_with_friends_family                                        0   \n",
      "family_history                                                   0   \n",
      "had_disorder_in_past                                             0   \n",
      "have_disorder                                                    0   \n",
      "been_diagnosed                                                   0   \n",
      "sought_treatment                                                 0   \n",
      "interferes_with_work_if_treated_effectively                      0   \n",
      "age                                                              0   \n",
      "self_employed                                                    0   \n",
      "\n",
      "                                                    Percent Missing  \n",
      "knowledge_of_mental_healthcare_coverage                    0.293091  \n",
      "negative_consequences_at_work                              0.200279  \n",
      "employer_mental_health_serious                             0.200279  \n",
      "num_employees                                              0.200279  \n",
      "tech_company                                               0.200279  \n",
      "mental_health_benefits                                     0.200279  \n",
      "employer_discussed_mental_health                           0.200279  \n",
      "employer_offer_resources                                   0.200279  \n",
      "anonymity_protected                                        0.200279  \n",
      "asking_for_leave                                           0.200279  \n",
      "discuss_mental_health_disorder_with_employer               0.200279  \n",
      "believe_negative_consequences_of_employer_discu...         0.200279  \n",
      "discuss_mental_health_disorder_with_coworkers              0.200279  \n",
      "discuss_mental_health_disorder_with_supervisor             0.200279  \n",
      "bad_response_to_mental_health_at_work                      0.062107  \n",
      "gender                                                     0.002094  \n",
      "work_remotely                                              0.000000  \n",
      "discuss_physical_health_potential_employer                 0.000000  \n",
      "discuss_mental_health_potential_employer                   0.000000  \n",
      "hurt_career                                                0.000000  \n",
      "believe_negative_view_from_collegues                       0.000000  \n",
      "share_with_friends_family                                  0.000000  \n",
      "family_history                                             0.000000  \n",
      "had_disorder_in_past                                       0.000000  \n",
      "have_disorder                                              0.000000  \n",
      "been_diagnosed                                             0.000000  \n",
      "sought_treatment                                           0.000000  \n",
      "interferes_with_work_if_treated_effectively                0.000000  \n",
      "age                                                        0.000000  \n",
      "self_employed                                              0.000000  \n"
     ]
    }
   ],
   "source": [
    "# check remaining missing data\n",
    "num_missing = train_df.isnull().sum().sort_values(ascending=False)\n",
    "percent_missing = (train_df.isnull().sum()/train_df.isnull().count()).sort_values(ascending=False)\n",
    "missing_data_2 = pd.concat([num_missing, percent_missing], axis=1, keys=['Number Missing', 'Percent Missing'])\n",
    "missing_data_2.head(20)\n",
    "print(missing_data_2)"
   ]
  },
  {
   "cell_type": "code",
   "execution_count": 285,
   "metadata": {},
   "outputs": [
    {
     "data": {
      "text/plain": [
       "(1146, 30)"
      ]
     },
     "execution_count": 285,
     "metadata": {},
     "output_type": "execute_result"
    }
   ],
   "source": [
    "# remove NaN from self_employed\n",
    "count=0\n",
    "\n",
    "for index,col in enumerate(list(train_df)):\n",
    "    is_null=train_df.index[train_df[col].isnull()]\n",
    "    if(len(is_null)==287):\n",
    "        k=is_null\n",
    "        count+=1\n",
    "\n",
    "train_df.drop(k,inplace=True)\n",
    "\n",
    "train_df.shape"
   ]
  },
  {
   "cell_type": "code",
   "execution_count": 286,
   "metadata": {},
   "outputs": [
    {
     "data": {
      "text/plain": [
       "(1013, 30)"
      ]
     },
     "execution_count": 286,
     "metadata": {},
     "output_type": "execute_result"
    }
   ],
   "source": [
    "# Similar to above, we will remove the common rows with null entries\n",
    "count=0\n",
    "\n",
    "for index,col in enumerate(list(train_df)):\n",
    "    is_null=train_df.index[train_df[col].isnull()]\n",
    "    if(len(is_null)==133):\n",
    "        k=is_null\n",
    "        count+=1\n",
    "\n",
    "train_df.drop(k,inplace=True)\n",
    "\n",
    "train_df.shape"
   ]
  },
  {
   "cell_type": "code",
   "execution_count": 289,
   "metadata": {},
   "outputs": [
    {
     "name": "stdout",
     "output_type": "stream",
     "text": [
      "                                                    Number Missing  \\\n",
      "bad_response_to_mental_health_at_work                           45   \n",
      "gender                                                           2   \n",
      "work_remotely                                                    0   \n",
      "employer_mental_health_serious                                   0   \n",
      "num_employees                                                    0   \n",
      "tech_company                                                     0   \n",
      "mental_health_benefits                                           0   \n",
      "knowledge_of_mental_healthcare_coverage                          0   \n",
      "employer_discussed_mental_health                                 0   \n",
      "employer_offer_resources                                         0   \n",
      "anonymity_protected                                              0   \n",
      "asking_for_leave                                                 0   \n",
      "discuss_mental_health_disorder_with_employer                     0   \n",
      "believe_negative_consequences_of_employer_discu...               0   \n",
      "discuss_mental_health_disorder_with_coworkers                    0   \n",
      "discuss_mental_health_disorder_with_supervisor                   0   \n",
      "negative_consequences_at_work                                    0   \n",
      "discuss_physical_health_potential_employer                       0   \n",
      "discuss_mental_health_potential_employer                         0   \n",
      "hurt_career                                                      0   \n",
      "believe_negative_view_from_collegues                             0   \n",
      "share_with_friends_family                                        0   \n",
      "family_history                                                   0   \n",
      "had_disorder_in_past                                             0   \n",
      "have_disorder                                                    0   \n",
      "been_diagnosed                                                   0   \n",
      "sought_treatment                                                 0   \n",
      "interferes_with_work_if_treated_effectively                      0   \n",
      "age                                                              0   \n",
      "self_employed                                                    0   \n",
      "\n",
      "                                                    Percent Missing  \n",
      "bad_response_to_mental_health_at_work                      0.044423  \n",
      "gender                                                     0.001974  \n",
      "work_remotely                                              0.000000  \n",
      "employer_mental_health_serious                             0.000000  \n",
      "num_employees                                              0.000000  \n",
      "tech_company                                               0.000000  \n",
      "mental_health_benefits                                     0.000000  \n",
      "knowledge_of_mental_healthcare_coverage                    0.000000  \n",
      "employer_discussed_mental_health                           0.000000  \n",
      "employer_offer_resources                                   0.000000  \n",
      "anonymity_protected                                        0.000000  \n",
      "asking_for_leave                                           0.000000  \n",
      "discuss_mental_health_disorder_with_employer               0.000000  \n",
      "believe_negative_consequences_of_employer_discu...         0.000000  \n",
      "discuss_mental_health_disorder_with_coworkers              0.000000  \n",
      "discuss_mental_health_disorder_with_supervisor             0.000000  \n",
      "negative_consequences_at_work                              0.000000  \n",
      "discuss_physical_health_potential_employer                 0.000000  \n",
      "discuss_mental_health_potential_employer                   0.000000  \n",
      "hurt_career                                                0.000000  \n",
      "believe_negative_view_from_collegues                       0.000000  \n",
      "share_with_friends_family                                  0.000000  \n",
      "family_history                                             0.000000  \n",
      "had_disorder_in_past                                       0.000000  \n",
      "have_disorder                                              0.000000  \n",
      "been_diagnosed                                             0.000000  \n",
      "sought_treatment                                           0.000000  \n",
      "interferes_with_work_if_treated_effectively                0.000000  \n",
      "age                                                        0.000000  \n",
      "self_employed                                              0.000000  \n"
     ]
    }
   ],
   "source": [
    "# check remaining missing data\n",
    "num_missing = train_df.isnull().sum().sort_values(ascending=False)\n",
    "percent_missing = (train_df.isnull().sum()/train_df.isnull().count()).sort_values(ascending=False)\n",
    "missing_data_3 = pd.concat([num_missing, percent_missing], axis=1, keys=['Number Missing', 'Percent Missing'])\n",
    "missing_data_3.head(20)\n",
    "print(missing_data_3)"
   ]
  },
  {
   "cell_type": "code",
   "execution_count": 290,
   "metadata": {},
   "outputs": [
    {
     "data": {
      "text/plain": [
       "(968, 30)"
      ]
     },
     "execution_count": 290,
     "metadata": {},
     "output_type": "execute_result"
    }
   ],
   "source": [
    "# Last entry removable\n",
    "count=0\n",
    "\n",
    "for index,col in enumerate(list(train_df)):\n",
    "    is_null=train_df.index[train_df[col].isnull()]\n",
    "    if(len(is_null)==45):\n",
    "        k=is_null\n",
    "        count+=1\n",
    "\n",
    "train_df.drop(k,inplace=True)\n",
    "\n",
    "train_df.shape"
   ]
  },
  {
   "cell_type": "code",
   "execution_count": 291,
   "metadata": {},
   "outputs": [
    {
     "data": {
      "text/plain": [
       "(966, 30)"
      ]
     },
     "execution_count": 291,
     "metadata": {},
     "output_type": "execute_result"
    }
   ],
   "source": [
    "# Last entry removable\n",
    "count=0\n",
    "\n",
    "for index,col in enumerate(list(train_df)):\n",
    "    is_null=train_df.index[train_df[col].isnull()]\n",
    "    if(len(is_null)==2):\n",
    "        k=is_null\n",
    "        count+=1\n",
    "\n",
    "train_df.drop(k,inplace=True)\n",
    "\n",
    "train_df.shape"
   ]
  },
  {
   "cell_type": "code",
   "execution_count": 292,
   "metadata": {},
   "outputs": [
    {
     "data": {
      "text/plain": [
       "0"
      ]
     },
     "execution_count": 292,
     "metadata": {},
     "output_type": "execute_result"
    }
   ],
   "source": [
    "#check number of null entries\n",
    "train_df.isnull().sum().max()"
   ]
  },
  {
   "cell_type": "code",
   "execution_count": 293,
   "metadata": {},
   "outputs": [
    {
     "data": {
      "text/plain": [
       "array(['male', 'Female', 'Male', 'M', 'female', 'm',\n",
       "       'I identify as female.', 'non-binary', 'Female assigned at birth ',\n",
       "       'F', 'Woman', 'man', 'Male ', 'fm', 'f', 'Cis female ',\n",
       "       'Transitioned, M2F', 'Genderfluid (born female)',\n",
       "       'Female or Multi-Gender Femme', 'female/woman', 'Cis male',\n",
       "       'Male.', 'Androgynous', 'Male (cis)', 'Other', 'Female ',\n",
       "       'nb masculine', 'Cisgender Female', 'Man', 'Sex is male',\n",
       "       'none of your business', 'genderqueer', 'cis male', 'Human',\n",
       "       'Genderfluid', 'Enby', 'genderqueer woman', 'female ', 'Dude',\n",
       "       'woman', 'mail', 'Male/genderqueer', 'fem', 'male ',\n",
       "       'Female (props for making this a freeform field, though)',\n",
       "       ' Female', 'Cis Male', 'Cis-woman', 'Genderqueer', 'cisdude',\n",
       "       'Genderflux demi-girl', 'cis man', 'Transgender woman'],\n",
       "      dtype=object)"
      ]
     },
     "execution_count": 293,
     "metadata": {},
     "output_type": "execute_result"
    }
   ],
   "source": [
    "# Look at the gender column for entry types\n",
    "train_df['gender'].unique()"
   ]
  },
  {
   "cell_type": "code",
   "execution_count": 294,
   "metadata": {
    "collapsed": true
   },
   "outputs": [],
   "source": [
    "# Sort the responses to their appropriate section. Move into groups: Male, Female, Genderqueer&Other\n",
    "train_df['gender'] = train_df['gender'].replace([\n",
    "    'male', 'Male ', 'M', 'm', 'man', 'Cis male',\n",
    "    'Male.', 'Male (cis)', 'Man', 'Sex is male',\n",
    "    'cis male', 'Dude',\n",
    "    'mail', 'M|', 'male ', 'Cis Male',\n",
    "    'cisdude', 'cis man'], 'Male')\n",
    "\n",
    "train_df['gender'] = train_df['gender'].replace([\n",
    "    'Female', 'female', 'I identify as female.', 'female ',\n",
    "    'Female assigned at birth ', 'F', 'Woman', 'fm', 'f',\n",
    "    'Cis female', 'Transitioned, M2F', 'Female or Multi-Gender Femme',\n",
    "    'Female ', 'woman', 'female/woman', 'Cisgender Female', \n",
    "    'mtf', 'fem', 'Female (props for making this a freeform field, though)',\n",
    "    ' Female', 'Cis-woman', 'Transgender woman',\n",
    "    'Cis female '], 'Female')\n",
    "\n",
    "train_df['gender'] = train_df['gender'].replace([\n",
    "    'Bigender', 'non-binary,','non-binary', 'Genderfluid (born female)',\n",
    "    'Other/Transfeminine', 'Androgynous', 'male 9:1 female, roughly',\n",
    "    'nb masculine', 'genderqueer', 'Human', 'Genderfluid',\n",
    "    'Enby', 'genderqueer woman', 'Queer', 'Agender', 'Fluid',\n",
    "    'Genderflux demi-girl', 'female-bodied; no feelings about gender',\n",
    "    'non-binary', 'Male/genderqueer', 'Nonbinary', 'Other', 'none of your business',\n",
    "    'Unicorn', 'human', 'Genderqueer'], 'Genderqueer/Other')"
   ]
  },
  {
   "cell_type": "code",
   "execution_count": 295,
   "metadata": {},
   "outputs": [
    {
     "data": {
      "text/plain": [
       "Male                 710\n",
       "Female               239\n",
       "Genderqueer/Other     17\n",
       "Name: gender, dtype: int64"
      ]
     },
     "execution_count": 295,
     "metadata": {},
     "output_type": "execute_result"
    }
   ],
   "source": [
    "train_df['gender'].value_counts()"
   ]
  },
  {
   "cell_type": "code",
   "execution_count": 296,
   "metadata": {},
   "outputs": [
    {
     "data": {
      "text/plain": [
       "array([ 29,  43,  42,  30,  37,  44,  28,  34,  35,  52,  32,  31,  25,\n",
       "        33,  27,  36,  40,  46,  41,  45,  38,  21,  24,  26,  23,  39,\n",
       "        51,  55,  22,  49,  20,  54,  47,  56,  50,  99,  57,  61,  19,\n",
       "       323,  48,  62,  53,  58,   3,  66,  59,  63,  74,  70])"
      ]
     },
     "execution_count": 296,
     "metadata": {},
     "output_type": "execute_result"
    }
   ],
   "source": [
    "# Look at the age column for entry types\n",
    "train_df['age'].unique()"
   ]
  },
  {
   "cell_type": "code",
   "execution_count": 297,
   "metadata": {
    "collapsed": true
   },
   "outputs": [],
   "source": [
    "# set the anomoly ages to the mean -> 3, 99, 323\n",
    "mean_age = math.floor(train_df['age'].mean())\n",
    "\n",
    "train_df.loc[(train_df['age'] > 80), 'age'] = mean_age\n",
    "train_df.loc[(train_df['age'] < 5), 'age'] = mean_age"
   ]
  },
  {
   "cell_type": "code",
   "execution_count": 298,
   "metadata": {},
   "outputs": [
    {
     "data": {
      "text/html": [
       "<div>\n",
       "<style scoped>\n",
       "    .dataframe tbody tr th:only-of-type {\n",
       "        vertical-align: middle;\n",
       "    }\n",
       "\n",
       "    .dataframe tbody tr th {\n",
       "        vertical-align: top;\n",
       "    }\n",
       "\n",
       "    .dataframe thead th {\n",
       "        text-align: right;\n",
       "    }\n",
       "</style>\n",
       "<table border=\"1\" class=\"dataframe\">\n",
       "  <thead>\n",
       "    <tr style=\"text-align: right;\">\n",
       "      <th></th>\n",
       "      <th>self_employed</th>\n",
       "      <th>num_employees</th>\n",
       "      <th>tech_company</th>\n",
       "      <th>mental_health_benefits</th>\n",
       "      <th>knowledge_of_mental_healthcare_coverage</th>\n",
       "      <th>employer_discussed_mental_health</th>\n",
       "      <th>employer_offer_resources</th>\n",
       "      <th>anonymity_protected</th>\n",
       "      <th>asking_for_leave</th>\n",
       "      <th>discuss_mental_health_disorder_with_employer</th>\n",
       "      <th>...</th>\n",
       "      <th>bad_response_to_mental_health_at_work</th>\n",
       "      <th>family_history</th>\n",
       "      <th>had_disorder_in_past</th>\n",
       "      <th>have_disorder</th>\n",
       "      <th>been_diagnosed</th>\n",
       "      <th>sought_treatment</th>\n",
       "      <th>interferes_with_work_if_treated_effectively</th>\n",
       "      <th>age</th>\n",
       "      <th>gender</th>\n",
       "      <th>work_remotely</th>\n",
       "    </tr>\n",
       "  </thead>\n",
       "  <tbody>\n",
       "    <tr>\n",
       "      <th>1</th>\n",
       "      <td>0</td>\n",
       "      <td>6-25</td>\n",
       "      <td>1.0</td>\n",
       "      <td>No</td>\n",
       "      <td>Yes</td>\n",
       "      <td>Yes</td>\n",
       "      <td>Yes</td>\n",
       "      <td>Yes</td>\n",
       "      <td>Somewhat easy</td>\n",
       "      <td>No</td>\n",
       "      <td>...</td>\n",
       "      <td>No</td>\n",
       "      <td>Yes</td>\n",
       "      <td>Yes</td>\n",
       "      <td>Yes</td>\n",
       "      <td>Yes</td>\n",
       "      <td>1</td>\n",
       "      <td>Rarely</td>\n",
       "      <td>29</td>\n",
       "      <td>Male</td>\n",
       "      <td>Never</td>\n",
       "    </tr>\n",
       "    <tr>\n",
       "      <th>4</th>\n",
       "      <td>0</td>\n",
       "      <td>6-25</td>\n",
       "      <td>0.0</td>\n",
       "      <td>Yes</td>\n",
       "      <td>Yes</td>\n",
       "      <td>No</td>\n",
       "      <td>No</td>\n",
       "      <td>No</td>\n",
       "      <td>Neither easy nor difficult</td>\n",
       "      <td>Yes</td>\n",
       "      <td>...</td>\n",
       "      <td>Yes, I experienced</td>\n",
       "      <td>Yes</td>\n",
       "      <td>Yes</td>\n",
       "      <td>Yes</td>\n",
       "      <td>Yes</td>\n",
       "      <td>1</td>\n",
       "      <td>Sometimes</td>\n",
       "      <td>43</td>\n",
       "      <td>Female</td>\n",
       "      <td>Sometimes</td>\n",
       "    </tr>\n",
       "    <tr>\n",
       "      <th>5</th>\n",
       "      <td>0</td>\n",
       "      <td>More than 1000</td>\n",
       "      <td>1.0</td>\n",
       "      <td>Yes</td>\n",
       "      <td>I am not sure</td>\n",
       "      <td>No</td>\n",
       "      <td>Yes</td>\n",
       "      <td>Yes</td>\n",
       "      <td>Somewhat easy</td>\n",
       "      <td>Yes</td>\n",
       "      <td>...</td>\n",
       "      <td>Yes, I experienced</td>\n",
       "      <td>No</td>\n",
       "      <td>No</td>\n",
       "      <td>Yes</td>\n",
       "      <td>No</td>\n",
       "      <td>1</td>\n",
       "      <td>Not applicable to me</td>\n",
       "      <td>42</td>\n",
       "      <td>Male</td>\n",
       "      <td>Sometimes</td>\n",
       "    </tr>\n",
       "    <tr>\n",
       "      <th>6</th>\n",
       "      <td>0</td>\n",
       "      <td>26-100</td>\n",
       "      <td>1.0</td>\n",
       "      <td>I don't know</td>\n",
       "      <td>No</td>\n",
       "      <td>No</td>\n",
       "      <td>No</td>\n",
       "      <td>I don't know</td>\n",
       "      <td>Somewhat easy</td>\n",
       "      <td>No</td>\n",
       "      <td>...</td>\n",
       "      <td>No</td>\n",
       "      <td>No</td>\n",
       "      <td>No</td>\n",
       "      <td>No</td>\n",
       "      <td>No</td>\n",
       "      <td>0</td>\n",
       "      <td>Not applicable to me</td>\n",
       "      <td>30</td>\n",
       "      <td>Male</td>\n",
       "      <td>Sometimes</td>\n",
       "    </tr>\n",
       "    <tr>\n",
       "      <th>7</th>\n",
       "      <td>0</td>\n",
       "      <td>More than 1000</td>\n",
       "      <td>1.0</td>\n",
       "      <td>Yes</td>\n",
       "      <td>Yes</td>\n",
       "      <td>No</td>\n",
       "      <td>Yes</td>\n",
       "      <td>Yes</td>\n",
       "      <td>Very easy</td>\n",
       "      <td>No</td>\n",
       "      <td>...</td>\n",
       "      <td>Yes, I observed</td>\n",
       "      <td>Yes</td>\n",
       "      <td>Yes</td>\n",
       "      <td>Yes</td>\n",
       "      <td>Yes</td>\n",
       "      <td>1</td>\n",
       "      <td>Sometimes</td>\n",
       "      <td>37</td>\n",
       "      <td>Female</td>\n",
       "      <td>Always</td>\n",
       "    </tr>\n",
       "  </tbody>\n",
       "</table>\n",
       "<p>5 rows × 30 columns</p>\n",
       "</div>"
      ],
      "text/plain": [
       "   self_employed   num_employees  tech_company mental_health_benefits  \\\n",
       "1              0            6-25           1.0                     No   \n",
       "4              0            6-25           0.0                    Yes   \n",
       "5              0  More than 1000           1.0                    Yes   \n",
       "6              0          26-100           1.0           I don't know   \n",
       "7              0  More than 1000           1.0                    Yes   \n",
       "\n",
       "  knowledge_of_mental_healthcare_coverage employer_discussed_mental_health  \\\n",
       "1                                     Yes                              Yes   \n",
       "4                                     Yes                               No   \n",
       "5                           I am not sure                               No   \n",
       "6                                      No                               No   \n",
       "7                                     Yes                               No   \n",
       "\n",
       "  employer_offer_resources anonymity_protected            asking_for_leave  \\\n",
       "1                      Yes                 Yes               Somewhat easy   \n",
       "4                       No                  No  Neither easy nor difficult   \n",
       "5                      Yes                 Yes               Somewhat easy   \n",
       "6                       No        I don't know               Somewhat easy   \n",
       "7                      Yes                 Yes                   Very easy   \n",
       "\n",
       "  discuss_mental_health_disorder_with_employer  ...  \\\n",
       "1                                           No  ...   \n",
       "4                                          Yes  ...   \n",
       "5                                          Yes  ...   \n",
       "6                                           No  ...   \n",
       "7                                           No  ...   \n",
       "\n",
       "  bad_response_to_mental_health_at_work family_history had_disorder_in_past  \\\n",
       "1                                    No            Yes                  Yes   \n",
       "4                    Yes, I experienced            Yes                  Yes   \n",
       "5                    Yes, I experienced             No                   No   \n",
       "6                                    No             No                   No   \n",
       "7                       Yes, I observed            Yes                  Yes   \n",
       "\n",
       "  have_disorder been_diagnosed sought_treatment  \\\n",
       "1           Yes            Yes                1   \n",
       "4           Yes            Yes                1   \n",
       "5           Yes             No                1   \n",
       "6            No             No                0   \n",
       "7           Yes            Yes                1   \n",
       "\n",
       "  interferes_with_work_if_treated_effectively age  gender work_remotely  \n",
       "1                                      Rarely  29    Male         Never  \n",
       "4                                   Sometimes  43  Female     Sometimes  \n",
       "5                        Not applicable to me  42    Male     Sometimes  \n",
       "6                        Not applicable to me  30    Male     Sometimes  \n",
       "7                                   Sometimes  37  Female        Always  \n",
       "\n",
       "[5 rows x 30 columns]"
      ]
     },
     "execution_count": 298,
     "metadata": {},
     "output_type": "execute_result"
    }
   ],
   "source": [
    "train_df.head()"
   ]
  },
  {
   "cell_type": "markdown",
   "metadata": {},
   "source": [
    "### Encode Data"
   ]
  },
  {
   "cell_type": "code",
   "execution_count": 300,
   "metadata": {},
   "outputs": [
    {
     "name": "stdout",
     "output_type": "stream",
     "text": [
      "num_employees ['26-100', 'More than 1000', '500-1000', '100-500', '1-5', '6-25']\n",
      "have_disorder ['Yes', 'No', 'Maybe']\n",
      "believe_negative_consequences_of_employer_discussion ['Yes', 'No', 'Maybe']\n",
      "work_remotely ['Never', 'Always', 'Sometimes']\n",
      "employer_mental_health_serious ['Yes', 'No', \"I don't know\"]\n",
      "tech_company [0.0, 1.0]\n",
      "gender ['Genderqueer/Other', 'Female', 'Male']\n",
      "discuss_mental_health_potential_employer ['Yes', 'No', 'Maybe']\n",
      "anonymity_protected ['Yes', 'No', \"I don't know\"]\n",
      "hurt_career ['Yes, it has', 'No, it has not', \"No, I don't think it would\", 'Maybe', 'Yes, I think it would']\n",
      "discuss_mental_health_disorder_with_coworkers ['Yes', 'No', 'Maybe']\n",
      "discuss_mental_health_disorder_with_employer ['Yes', 'No', 'Maybe']\n",
      "had_disorder_in_past ['Yes', 'No', 'Maybe']\n",
      "negative_consequences_at_work ['Yes', 'No']\n",
      "been_diagnosed ['Yes', 'No']\n",
      "family_history ['Yes', 'No', \"I don't know\"]\n",
      "bad_response_to_mental_health_at_work ['No', 'Yes, I experienced', 'Maybe/Not sure', 'Yes, I observed']\n",
      "believe_negative_view_from_collegues [\"No, I don't think they would\", 'No, they do not', 'Yes, I think they would', 'Maybe', 'Yes, they do']\n",
      "mental_health_benefits ['Not eligible for coverage / N/A', 'No', 'Yes', \"I don't know\"]\n",
      "discuss_mental_health_disorder_with_supervisor ['Yes', 'No', 'Maybe']\n",
      "discuss_physical_health_potential_employer ['Yes', 'No', 'Maybe']\n",
      "asking_for_leave ['Somewhat easy', 'Somewhat difficult', 'Very easy', \"I don't know\", 'Very difficult', 'Neither easy nor difficult']\n",
      "sought_treatment [0, 1]\n",
      "employer_offer_resources ['Yes', 'No', \"I don't know\"]\n",
      "self_employed [0]\n",
      "share_with_friends_family ['Somewhat open', 'Not applicable to me (I do not have a mental illness)', 'Somewhat not open', 'Not open at all', 'Neutral', 'Very open']\n",
      "interferes_with_work_if_treated_effectively ['Often', 'Never', 'Not applicable to me', 'Rarely', 'Sometimes']\n",
      "age [19, 20, 21, 22, 23, 24, 25, 26, 27, 28, 29, 30, 31, 32, 33, 34, 35, 36, 37, 38, 39, 40, 41, 42, 43, 44, 45, 46, 47, 48, 49, 50, 51, 52, 53, 54, 55, 56, 57, 58, 59, 61, 62, 63, 66, 70, 74]\n",
      "knowledge_of_mental_healthcare_coverage ['Yes', 'No', 'I am not sure']\n",
      "employer_discussed_mental_health ['Yes', 'No', \"I don't know\"]\n"
     ]
    }
   ],
   "source": [
    "dictionary = {}\n",
    "for feature in train_df:\n",
    "    encoder = preprocessing.LabelEncoder()\n",
    "    encoder.fit(train_df[feature])\n",
    "    encoder_dict = dict(zip(encoder.classes_, encoder.transform(encoder.classes_)))\n",
    "    train_df[feature] = encoder.transform(train_df[feature])\n",
    "    label = [*encoder_dict]\n",
    "    dictionary[feature] = label\n",
    "    \n",
    "for key, value in dictionary.items():     \n",
    "    print(key, value)"
   ]
  },
  {
   "cell_type": "code",
   "execution_count": 301,
   "metadata": {},
   "outputs": [
    {
     "data": {
      "text/html": [
       "<div>\n",
       "<style scoped>\n",
       "    .dataframe tbody tr th:only-of-type {\n",
       "        vertical-align: middle;\n",
       "    }\n",
       "\n",
       "    .dataframe tbody tr th {\n",
       "        vertical-align: top;\n",
       "    }\n",
       "\n",
       "    .dataframe thead th {\n",
       "        text-align: right;\n",
       "    }\n",
       "</style>\n",
       "<table border=\"1\" class=\"dataframe\">\n",
       "  <thead>\n",
       "    <tr style=\"text-align: right;\">\n",
       "      <th></th>\n",
       "      <th>self_employed</th>\n",
       "      <th>num_employees</th>\n",
       "      <th>tech_company</th>\n",
       "      <th>mental_health_benefits</th>\n",
       "      <th>knowledge_of_mental_healthcare_coverage</th>\n",
       "      <th>employer_discussed_mental_health</th>\n",
       "      <th>employer_offer_resources</th>\n",
       "      <th>anonymity_protected</th>\n",
       "      <th>asking_for_leave</th>\n",
       "      <th>discuss_mental_health_disorder_with_employer</th>\n",
       "      <th>...</th>\n",
       "      <th>bad_response_to_mental_health_at_work</th>\n",
       "      <th>family_history</th>\n",
       "      <th>had_disorder_in_past</th>\n",
       "      <th>have_disorder</th>\n",
       "      <th>been_diagnosed</th>\n",
       "      <th>sought_treatment</th>\n",
       "      <th>interferes_with_work_if_treated_effectively</th>\n",
       "      <th>age</th>\n",
       "      <th>gender</th>\n",
       "      <th>work_remotely</th>\n",
       "    </tr>\n",
       "  </thead>\n",
       "  <tbody>\n",
       "    <tr>\n",
       "      <th>1</th>\n",
       "      <td>0</td>\n",
       "      <td>4</td>\n",
       "      <td>1</td>\n",
       "      <td>1</td>\n",
       "      <td>2</td>\n",
       "      <td>2</td>\n",
       "      <td>2</td>\n",
       "      <td>2</td>\n",
       "      <td>3</td>\n",
       "      <td>1</td>\n",
       "      <td>...</td>\n",
       "      <td>1</td>\n",
       "      <td>2</td>\n",
       "      <td>2</td>\n",
       "      <td>2</td>\n",
       "      <td>1</td>\n",
       "      <td>1</td>\n",
       "      <td>3</td>\n",
       "      <td>10</td>\n",
       "      <td>2</td>\n",
       "      <td>1</td>\n",
       "    </tr>\n",
       "    <tr>\n",
       "      <th>4</th>\n",
       "      <td>0</td>\n",
       "      <td>4</td>\n",
       "      <td>0</td>\n",
       "      <td>3</td>\n",
       "      <td>2</td>\n",
       "      <td>1</td>\n",
       "      <td>1</td>\n",
       "      <td>1</td>\n",
       "      <td>1</td>\n",
       "      <td>2</td>\n",
       "      <td>...</td>\n",
       "      <td>2</td>\n",
       "      <td>2</td>\n",
       "      <td>2</td>\n",
       "      <td>2</td>\n",
       "      <td>1</td>\n",
       "      <td>1</td>\n",
       "      <td>4</td>\n",
       "      <td>24</td>\n",
       "      <td>0</td>\n",
       "      <td>2</td>\n",
       "    </tr>\n",
       "    <tr>\n",
       "      <th>5</th>\n",
       "      <td>0</td>\n",
       "      <td>5</td>\n",
       "      <td>1</td>\n",
       "      <td>3</td>\n",
       "      <td>0</td>\n",
       "      <td>1</td>\n",
       "      <td>2</td>\n",
       "      <td>2</td>\n",
       "      <td>3</td>\n",
       "      <td>2</td>\n",
       "      <td>...</td>\n",
       "      <td>2</td>\n",
       "      <td>1</td>\n",
       "      <td>1</td>\n",
       "      <td>2</td>\n",
       "      <td>0</td>\n",
       "      <td>1</td>\n",
       "      <td>1</td>\n",
       "      <td>23</td>\n",
       "      <td>2</td>\n",
       "      <td>2</td>\n",
       "    </tr>\n",
       "    <tr>\n",
       "      <th>6</th>\n",
       "      <td>0</td>\n",
       "      <td>2</td>\n",
       "      <td>1</td>\n",
       "      <td>0</td>\n",
       "      <td>1</td>\n",
       "      <td>1</td>\n",
       "      <td>1</td>\n",
       "      <td>0</td>\n",
       "      <td>3</td>\n",
       "      <td>1</td>\n",
       "      <td>...</td>\n",
       "      <td>1</td>\n",
       "      <td>1</td>\n",
       "      <td>1</td>\n",
       "      <td>1</td>\n",
       "      <td>0</td>\n",
       "      <td>0</td>\n",
       "      <td>1</td>\n",
       "      <td>11</td>\n",
       "      <td>2</td>\n",
       "      <td>2</td>\n",
       "    </tr>\n",
       "    <tr>\n",
       "      <th>7</th>\n",
       "      <td>0</td>\n",
       "      <td>5</td>\n",
       "      <td>1</td>\n",
       "      <td>3</td>\n",
       "      <td>2</td>\n",
       "      <td>1</td>\n",
       "      <td>2</td>\n",
       "      <td>2</td>\n",
       "      <td>5</td>\n",
       "      <td>1</td>\n",
       "      <td>...</td>\n",
       "      <td>3</td>\n",
       "      <td>2</td>\n",
       "      <td>2</td>\n",
       "      <td>2</td>\n",
       "      <td>1</td>\n",
       "      <td>1</td>\n",
       "      <td>4</td>\n",
       "      <td>18</td>\n",
       "      <td>0</td>\n",
       "      <td>0</td>\n",
       "    </tr>\n",
       "  </tbody>\n",
       "</table>\n",
       "<p>5 rows × 30 columns</p>\n",
       "</div>"
      ],
      "text/plain": [
       "   self_employed  num_employees  tech_company  mental_health_benefits  \\\n",
       "1              0              4             1                       1   \n",
       "4              0              4             0                       3   \n",
       "5              0              5             1                       3   \n",
       "6              0              2             1                       0   \n",
       "7              0              5             1                       3   \n",
       "\n",
       "   knowledge_of_mental_healthcare_coverage  employer_discussed_mental_health  \\\n",
       "1                                        2                                 2   \n",
       "4                                        2                                 1   \n",
       "5                                        0                                 1   \n",
       "6                                        1                                 1   \n",
       "7                                        2                                 1   \n",
       "\n",
       "   employer_offer_resources  anonymity_protected  asking_for_leave  \\\n",
       "1                         2                    2                 3   \n",
       "4                         1                    1                 1   \n",
       "5                         2                    2                 3   \n",
       "6                         1                    0                 3   \n",
       "7                         2                    2                 5   \n",
       "\n",
       "   discuss_mental_health_disorder_with_employer  ...  \\\n",
       "1                                             1  ...   \n",
       "4                                             2  ...   \n",
       "5                                             2  ...   \n",
       "6                                             1  ...   \n",
       "7                                             1  ...   \n",
       "\n",
       "   bad_response_to_mental_health_at_work  family_history  \\\n",
       "1                                      1               2   \n",
       "4                                      2               2   \n",
       "5                                      2               1   \n",
       "6                                      1               1   \n",
       "7                                      3               2   \n",
       "\n",
       "   had_disorder_in_past  have_disorder  been_diagnosed  sought_treatment  \\\n",
       "1                     2              2               1                 1   \n",
       "4                     2              2               1                 1   \n",
       "5                     1              2               0                 1   \n",
       "6                     1              1               0                 0   \n",
       "7                     2              2               1                 1   \n",
       "\n",
       "   interferes_with_work_if_treated_effectively  age  gender  work_remotely  \n",
       "1                                            3   10       2              1  \n",
       "4                                            4   24       0              2  \n",
       "5                                            1   23       2              2  \n",
       "6                                            1   11       2              2  \n",
       "7                                            4   18       0              0  \n",
       "\n",
       "[5 rows x 30 columns]"
      ]
     },
     "execution_count": 301,
     "metadata": {},
     "output_type": "execute_result"
    }
   ],
   "source": [
    "train_df.head()"
   ]
  },
  {
   "cell_type": "markdown",
   "metadata": {},
   "source": [
    "### Scale Data"
   ]
  },
  {
   "cell_type": "code",
   "execution_count": 302,
   "metadata": {},
   "outputs": [
    {
     "data": {
      "text/html": [
       "<div>\n",
       "<style scoped>\n",
       "    .dataframe tbody tr th:only-of-type {\n",
       "        vertical-align: middle;\n",
       "    }\n",
       "\n",
       "    .dataframe tbody tr th {\n",
       "        vertical-align: top;\n",
       "    }\n",
       "\n",
       "    .dataframe thead th {\n",
       "        text-align: right;\n",
       "    }\n",
       "</style>\n",
       "<table border=\"1\" class=\"dataframe\">\n",
       "  <thead>\n",
       "    <tr style=\"text-align: right;\">\n",
       "      <th></th>\n",
       "      <th>self_employed</th>\n",
       "      <th>num_employees</th>\n",
       "      <th>tech_company</th>\n",
       "      <th>mental_health_benefits</th>\n",
       "      <th>knowledge_of_mental_healthcare_coverage</th>\n",
       "      <th>employer_discussed_mental_health</th>\n",
       "      <th>employer_offer_resources</th>\n",
       "      <th>anonymity_protected</th>\n",
       "      <th>asking_for_leave</th>\n",
       "      <th>discuss_mental_health_disorder_with_employer</th>\n",
       "      <th>...</th>\n",
       "      <th>bad_response_to_mental_health_at_work</th>\n",
       "      <th>family_history</th>\n",
       "      <th>had_disorder_in_past</th>\n",
       "      <th>have_disorder</th>\n",
       "      <th>been_diagnosed</th>\n",
       "      <th>sought_treatment</th>\n",
       "      <th>interferes_with_work_if_treated_effectively</th>\n",
       "      <th>age</th>\n",
       "      <th>gender</th>\n",
       "      <th>work_remotely</th>\n",
       "    </tr>\n",
       "  </thead>\n",
       "  <tbody>\n",
       "    <tr>\n",
       "      <th>1</th>\n",
       "      <td>0.0</td>\n",
       "      <td>0.8</td>\n",
       "      <td>1.0</td>\n",
       "      <td>0.333333</td>\n",
       "      <td>1.0</td>\n",
       "      <td>1.0</td>\n",
       "      <td>1.0</td>\n",
       "      <td>1.0</td>\n",
       "      <td>0.6</td>\n",
       "      <td>0.5</td>\n",
       "      <td>...</td>\n",
       "      <td>0.333333</td>\n",
       "      <td>1.0</td>\n",
       "      <td>1.0</td>\n",
       "      <td>1.0</td>\n",
       "      <td>1.0</td>\n",
       "      <td>1.0</td>\n",
       "      <td>0.75</td>\n",
       "      <td>0.217391</td>\n",
       "      <td>1.0</td>\n",
       "      <td>0.5</td>\n",
       "    </tr>\n",
       "    <tr>\n",
       "      <th>4</th>\n",
       "      <td>0.0</td>\n",
       "      <td>0.8</td>\n",
       "      <td>0.0</td>\n",
       "      <td>1.000000</td>\n",
       "      <td>1.0</td>\n",
       "      <td>0.5</td>\n",
       "      <td>0.5</td>\n",
       "      <td>0.5</td>\n",
       "      <td>0.2</td>\n",
       "      <td>1.0</td>\n",
       "      <td>...</td>\n",
       "      <td>0.666667</td>\n",
       "      <td>1.0</td>\n",
       "      <td>1.0</td>\n",
       "      <td>1.0</td>\n",
       "      <td>1.0</td>\n",
       "      <td>1.0</td>\n",
       "      <td>1.00</td>\n",
       "      <td>0.521739</td>\n",
       "      <td>0.0</td>\n",
       "      <td>1.0</td>\n",
       "    </tr>\n",
       "    <tr>\n",
       "      <th>5</th>\n",
       "      <td>0.0</td>\n",
       "      <td>1.0</td>\n",
       "      <td>1.0</td>\n",
       "      <td>1.000000</td>\n",
       "      <td>0.0</td>\n",
       "      <td>0.5</td>\n",
       "      <td>1.0</td>\n",
       "      <td>1.0</td>\n",
       "      <td>0.6</td>\n",
       "      <td>1.0</td>\n",
       "      <td>...</td>\n",
       "      <td>0.666667</td>\n",
       "      <td>0.5</td>\n",
       "      <td>0.5</td>\n",
       "      <td>1.0</td>\n",
       "      <td>0.0</td>\n",
       "      <td>1.0</td>\n",
       "      <td>0.25</td>\n",
       "      <td>0.500000</td>\n",
       "      <td>1.0</td>\n",
       "      <td>1.0</td>\n",
       "    </tr>\n",
       "    <tr>\n",
       "      <th>6</th>\n",
       "      <td>0.0</td>\n",
       "      <td>0.4</td>\n",
       "      <td>1.0</td>\n",
       "      <td>0.000000</td>\n",
       "      <td>0.5</td>\n",
       "      <td>0.5</td>\n",
       "      <td>0.5</td>\n",
       "      <td>0.0</td>\n",
       "      <td>0.6</td>\n",
       "      <td>0.5</td>\n",
       "      <td>...</td>\n",
       "      <td>0.333333</td>\n",
       "      <td>0.5</td>\n",
       "      <td>0.5</td>\n",
       "      <td>0.5</td>\n",
       "      <td>0.0</td>\n",
       "      <td>0.0</td>\n",
       "      <td>0.25</td>\n",
       "      <td>0.239130</td>\n",
       "      <td>1.0</td>\n",
       "      <td>1.0</td>\n",
       "    </tr>\n",
       "    <tr>\n",
       "      <th>7</th>\n",
       "      <td>0.0</td>\n",
       "      <td>1.0</td>\n",
       "      <td>1.0</td>\n",
       "      <td>1.000000</td>\n",
       "      <td>1.0</td>\n",
       "      <td>0.5</td>\n",
       "      <td>1.0</td>\n",
       "      <td>1.0</td>\n",
       "      <td>1.0</td>\n",
       "      <td>0.5</td>\n",
       "      <td>...</td>\n",
       "      <td>1.000000</td>\n",
       "      <td>1.0</td>\n",
       "      <td>1.0</td>\n",
       "      <td>1.0</td>\n",
       "      <td>1.0</td>\n",
       "      <td>1.0</td>\n",
       "      <td>1.00</td>\n",
       "      <td>0.391304</td>\n",
       "      <td>0.0</td>\n",
       "      <td>0.0</td>\n",
       "    </tr>\n",
       "  </tbody>\n",
       "</table>\n",
       "<p>5 rows × 30 columns</p>\n",
       "</div>"
      ],
      "text/plain": [
       "   self_employed  num_employees  tech_company  mental_health_benefits  \\\n",
       "1            0.0            0.8           1.0                0.333333   \n",
       "4            0.0            0.8           0.0                1.000000   \n",
       "5            0.0            1.0           1.0                1.000000   \n",
       "6            0.0            0.4           1.0                0.000000   \n",
       "7            0.0            1.0           1.0                1.000000   \n",
       "\n",
       "   knowledge_of_mental_healthcare_coverage  employer_discussed_mental_health  \\\n",
       "1                                      1.0                               1.0   \n",
       "4                                      1.0                               0.5   \n",
       "5                                      0.0                               0.5   \n",
       "6                                      0.5                               0.5   \n",
       "7                                      1.0                               0.5   \n",
       "\n",
       "   employer_offer_resources  anonymity_protected  asking_for_leave  \\\n",
       "1                       1.0                  1.0               0.6   \n",
       "4                       0.5                  0.5               0.2   \n",
       "5                       1.0                  1.0               0.6   \n",
       "6                       0.5                  0.0               0.6   \n",
       "7                       1.0                  1.0               1.0   \n",
       "\n",
       "   discuss_mental_health_disorder_with_employer  ...  \\\n",
       "1                                           0.5  ...   \n",
       "4                                           1.0  ...   \n",
       "5                                           1.0  ...   \n",
       "6                                           0.5  ...   \n",
       "7                                           0.5  ...   \n",
       "\n",
       "   bad_response_to_mental_health_at_work  family_history  \\\n",
       "1                               0.333333             1.0   \n",
       "4                               0.666667             1.0   \n",
       "5                               0.666667             0.5   \n",
       "6                               0.333333             0.5   \n",
       "7                               1.000000             1.0   \n",
       "\n",
       "   had_disorder_in_past  have_disorder  been_diagnosed  sought_treatment  \\\n",
       "1                   1.0            1.0             1.0               1.0   \n",
       "4                   1.0            1.0             1.0               1.0   \n",
       "5                   0.5            1.0             0.0               1.0   \n",
       "6                   0.5            0.5             0.0               0.0   \n",
       "7                   1.0            1.0             1.0               1.0   \n",
       "\n",
       "   interferes_with_work_if_treated_effectively       age  gender  \\\n",
       "1                                         0.75  0.217391     1.0   \n",
       "4                                         1.00  0.521739     0.0   \n",
       "5                                         0.25  0.500000     1.0   \n",
       "6                                         0.25  0.239130     1.0   \n",
       "7                                         1.00  0.391304     0.0   \n",
       "\n",
       "   work_remotely  \n",
       "1            0.5  \n",
       "4            1.0  \n",
       "5            1.0  \n",
       "6            1.0  \n",
       "7            0.0  \n",
       "\n",
       "[5 rows x 30 columns]"
      ]
     },
     "execution_count": 302,
     "metadata": {},
     "output_type": "execute_result"
    }
   ],
   "source": [
    "scaler = MinMaxScaler()\n",
    "for i in range(len(list(train_df))):\n",
    "    train_df[(list(train_df)[i])] = scaler.fit_transform(train_df[[(list(train_df)[i])]])\n",
    "\n",
    "train_df.head()"
   ]
  },
  {
   "cell_type": "markdown",
   "metadata": {},
   "source": [
    "### Data Visualizations"
   ]
  },
  {
   "cell_type": "code",
   "execution_count": 337,
   "metadata": {},
   "outputs": [
    {
     "data": {
      "image/png": "[encoded data removed]",
      "text/plain": [
       "<Figure size 1200x800 with 1 Axes>"
      ]
     },
     "metadata": {},
     "output_type": "display_data"
    }
   ],
   "source": [
    "import seaborn as sns\n",
    "plt.figure(figsize=(12,8))\n",
    "labels = dictionary['gender']\n",
    "g = sns.countplot(x='sought_treatment', data=train_df, palette=sns.color_palette(['#80add7', '#0abda0']))\n",
    "g.set_xticklabels(labels)\n",
    "\n",
    "def change_width(g, new_value) :\n",
    "    for patch in g.patches :\n",
    "        current_width = patch.get_width()\n",
    "        diff = current_width - new_value\n",
    "\n",
    "        # we change the bar width\n",
    "        patch.set_width(new_value)\n",
    "\n",
    "        # we recenter the bar\n",
    "        patch.set_x(patch.get_x() + diff * .5)\n",
    "\n",
    "change_width(g, .35)\n",
    "\n",
    "plt.title('Treatment Distribution Based on Gender Identity')\n",
    "plt.show()"
   ]
  },
  {
   "cell_type": "code",
   "execution_count": 326,
   "metadata": {},
   "outputs": [
    {
     "data": {
      "image/png": "[encoded data removed]",
      "text/plain": [
       "<Figure size 1200x800 with 1 Axes>"
      ]
     },
     "metadata": {},
     "output_type": "display_data"
    }
   ],
   "source": [
    "plt.figure(figsize=(12,8))\n",
    "sns.distplot(train_df['age'],bins=24)\n",
    "plt.title('Dataset Distribuition by Age')\n",
    "plt.xlabel('age')\n",
    "plt.show()"
   ]
  },
  {
   "cell_type": "code",
   "execution_count": 332,
   "metadata": {},
   "outputs": [
    {
     "data": {
      "image/png": "[encoded data removed]",
      "text/plain": [
       "<Figure size 1072x500 with 1 Axes>"
      ]
     },
     "metadata": {},
     "output_type": "display_data"
    }
   ],
   "source": [
    "o = dictionary['family_history']\n",
    "g = sns.catplot(x=\"family_history\", y=\"sought_treatment\", hue=\"gender\", data=train_df, \n",
    "                kind=\"bar\", ci=None, height=5, aspect=2, legend_out = True, palette=sns.color_palette(['#80add7', '#0abda0', 'red']))\n",
    "g.set_xticklabels(o)\n",
    "plt.title('Probability of Mental Health Condition based on Family History')\n",
    "plt.ylabel('Probability')\n",
    "plt.xlabel('Family History')\n",
    "\n",
    "# replace legend labels\n",
    "new_labels = dictionary['gender']\n",
    "for t, l in zip(g._legend.texts, new_labels): t.set_text(l)\n",
    "\n",
    "# Positioning the legend\n",
    "g.fig.subplots_adjust(top=0.9,right=0.8)\n",
    "\n",
    "plt.show()"
   ]
  },
  {
   "cell_type": "markdown",
   "metadata": {},
   "source": [
    "### Models"
   ]
  },
  {
   "cell_type": "markdown",
   "metadata": {},
   "source": [
    "#### Random Forest Tree"
   ]
  },
  {
   "cell_type": "code",
   "execution_count": 227,
   "metadata": {
    "collapsed": true
   },
   "outputs": [],
   "source": [
    "from sklearn.model_selection import train_test_split\n",
    "from sklearn.ensemble import RandomForestClassifier"
   ]
  },
  {
   "cell_type": "code",
   "execution_count": 228,
   "metadata": {},
   "outputs": [],
   "source": [
    "target=train_df['sought_treatment']\n",
    "train_df.drop(['sought_treatment'],axis=1,inplace=True)"
   ]
  },
  {
   "cell_type": "code",
   "execution_count": 229,
   "metadata": {
    "collapsed": true
   },
   "outputs": [],
   "source": [
    "X=train_df\n",
    "X_train, X_test, y_train, y_test = train_test_split(X,target, test_size=0.2, random_state=0)"
   ]
  },
  {
   "cell_type": "code",
   "execution_count": 230,
   "metadata": {},
   "outputs": [
    {
     "data": {
      "text/plain": [
       "RandomForestClassifier(bootstrap=True, ccp_alpha=0.0, class_weight=None,\n",
       "                       criterion='gini', max_depth=14, max_features='auto',\n",
       "                       max_leaf_nodes=None, max_samples=None,\n",
       "                       min_impurity_decrease=0.0, min_impurity_split=None,\n",
       "                       min_samples_leaf=1, min_samples_split=2,\n",
       "                       min_weight_fraction_leaf=0.0, n_estimators=100,\n",
       "                       n_jobs=None, oob_score=False, random_state=0, verbose=0,\n",
       "                       warm_start=False)"
      ]
     },
     "execution_count": 230,
     "metadata": {},
     "output_type": "execute_result"
    }
   ],
   "source": [
    "random_forest_model = RandomForestClassifier(max_depth=14, random_state=0)\n",
    "random_forest_model.fit(X_train, y_train)"
   ]
  },
  {
   "cell_type": "code",
   "execution_count": 348,
   "metadata": {},
   "outputs": [],
   "source": [
    "def model_analysis(y_test, x_test, modelname, title):\n",
    "    model_predict = modelname.predict(x_test)\n",
    "    c_matrix = confusion_matrix(y_test, model_predict)\n",
    "                            \n",
    "    false_p = c_matrix[0,1]\n",
    "    false_n = c_matrix[1,0]\n",
    "    true_p = c_matrix[0,0]\n",
    "    true_n = c_matrix[1,1]\n",
    "    \n",
    "    class_names=[0,1]\n",
    "    fig, ax = plt.subplots()\n",
    "    tick_marks = np.arange(len(class_names))\n",
    "    plt.xticks(tick_marks, class_names)\n",
    "    plt.yticks(tick_marks, class_names)\n",
    "    \n",
    "    sns.heatmap(pd.DataFrame(c_matrix), annot=True, cmap=\"YlGnBu\" ,fmt='g')\n",
    "    ax.xaxis.set_label_position(\"top\")\n",
    "    plt.tight_layout()\n",
    "    plt.title(title+' Confusion Matrix', y=1.1)\n",
    "    plt.ylabel('Actual Label')\n",
    "    plt.xlabel('Predicted Label')\n",
    "\n",
    "    true_positive_rate = true_p/(true_p+false_n)\n",
    "    true_negative_rate = true_n/(true_n+false_p) \n",
    "    false_positive_rate = false_p/(false_p+true_n)\n",
    "    false_negative_rate  = false_n/(true_p+false_n)\n",
    "    \n",
    "    print(title+' Results', '\\n')\n",
    "    print(\"======= Confusion Matrix =======\")\n",
    "    print(confusion_matrix(y_test, model_predict), '\\n')\n",
    "    print(\"======= Classification Report =======\")\n",
    "    print(classification_report(y_test, model_predict), '\\n')\n",
    "    print(\"======= Accuracy =======\")\n",
    "    print('True Positive Rate: ', true_positive_rate)\n",
    "    print('True Negative Rate: ', true_negative_rate)\n",
    "    print('False Positive Rate: ', false_positive_rate)\n",
    "    print('False Negative Rate: ', false_negative_rate )\n",
    "    print('AUC Score:', metrics.roc_auc_score(y_test, model_predict))\n",
    "    print('Mean Accuracy: ', modelname.score(x_test,y_test))\n",
    "    \n"
   ]
  },
  {
   "cell_type": "code",
   "execution_count": 349,
   "metadata": {},
   "outputs": [
    {
     "name": "stdout",
     "output_type": "stream",
     "text": [
      "Random Forest Tree Results \n",
      "\n",
      "======= Confusion Matrix =======\n",
      "[[ 52  14]\n",
      " [ 11 117]] \n",
      "\n",
      "======= Classification Report =======\n",
      "              precision    recall  f1-score   support\n",
      "\n",
      "           0       0.83      0.79      0.81        66\n",
      "           1       0.89      0.91      0.90       128\n",
      "\n",
      "    accuracy                           0.87       194\n",
      "   macro avg       0.86      0.85      0.85       194\n",
      "weighted avg       0.87      0.87      0.87       194\n",
      " \n",
      "\n",
      "======= Accuracy =======\n",
      "True Positive Rate:  0.8253968253968254\n",
      "True Negative Rate:  0.8931297709923665\n",
      "False Positive Rate:  0.10687022900763359\n",
      "False Negative Rate:  0.1746031746031746\n",
      "AUC Score: 0.8509706439393939\n",
      "Mean Accuracy:  0.8711340206185567\n"
     ]
    },
    {
     "data": {
      "image/png": "[encoded data removed]",
      "text/plain": [
       "<Figure size 600x400 with 2 Axes>"
      ]
     },
     "metadata": {},
     "output_type": "display_data"
    }
   ],
   "source": [
    "model_analysis(y_test, X_test, random_forest_model, 'Random Forest Tree')"
   ]
  },
  {
   "cell_type": "markdown",
   "metadata": {
    "collapsed": true
   },
   "source": [
    "#### Logistic Regression"
   ]
  },
  {
   "cell_type": "code",
   "execution_count": 350,
   "metadata": {
    "collapsed": true
   },
   "outputs": [],
   "source": [
    "from sklearn.linear_model import LogisticRegression"
   ]
  },
  {
   "cell_type": "code",
   "execution_count": 351,
   "metadata": {},
   "outputs": [
    {
     "data": {
      "text/plain": [
       "LogisticRegression(C=1.0, class_weight=None, dual=False, fit_intercept=True,\n",
       "                   intercept_scaling=1, l1_ratio=None, max_iter=100,\n",
       "                   multi_class='auto', n_jobs=None, penalty='l2',\n",
       "                   random_state=None, solver='lbfgs', tol=0.0001, verbose=0,\n",
       "                   warm_start=False)"
      ]
     },
     "execution_count": 351,
     "metadata": {},
     "output_type": "execute_result"
    }
   ],
   "source": [
    "# train a logistic regression model on the training set\n",
    "log_reg = LogisticRegression()\n",
    "log_reg.fit(X_train, y_train)"
   ]
  },
  {
   "cell_type": "code",
   "execution_count": 352,
   "metadata": {},
   "outputs": [
    {
     "name": "stdout",
     "output_type": "stream",
     "text": [
      "Logistic Regression Results \n",
      "\n",
      "======= Confusion Matrix =======\n",
      "[[ 56  10]\n",
      " [ 15 113]] \n",
      "\n",
      "======= Classification Report =======\n",
      "              precision    recall  f1-score   support\n",
      "\n",
      "           0       0.79      0.85      0.82        66\n",
      "           1       0.92      0.88      0.90       128\n",
      "\n",
      "    accuracy                           0.87       194\n",
      "   macro avg       0.85      0.87      0.86       194\n",
      "weighted avg       0.87      0.87      0.87       194\n",
      " \n",
      "\n",
      "======= Accuracy =======\n",
      "True Positive Rate:  0.7887323943661971\n",
      "True Negative Rate:  0.9186991869918699\n",
      "False Positive Rate:  0.08130081300813008\n",
      "False Negative Rate:  0.2112676056338028\n",
      "AUC Score: 0.8656486742424243\n",
      "Mean Accuracy:  0.8711340206185567\n"
     ]
    },
    {
     "data": {
      "image/png": "[encoded data removed]",
      "text/plain": [
       "<Figure size 600x400 with 2 Axes>"
      ]
     },
     "metadata": {},
     "output_type": "display_data"
    }
   ],
   "source": [
    "model_analysis(y_test, X_test, log_reg, 'Logistic Regression')"
   ]
  },
  {
   "cell_type": "markdown",
   "metadata": {},
   "source": [
    "#### Support Vector Machine (SVM)"
   ]
  },
  {
   "cell_type": "code",
   "execution_count": 354,
   "metadata": {},
   "outputs": [],
   "source": [
    "from sklearn.datasets import make_blobs \n",
    "from sklearn.svm import SVC "
   ]
  },
  {
   "cell_type": "code",
   "execution_count": 355,
   "metadata": {},
   "outputs": [],
   "source": [
    "svm_model = SVC(kernel='linear') "
   ]
  },
  {
   "cell_type": "code",
   "execution_count": 356,
   "metadata": {},
   "outputs": [
    {
     "data": {
      "text/plain": [
       "SVC(C=1.0, break_ties=False, cache_size=200, class_weight=None, coef0=0.0,\n",
       "    decision_function_shape='ovr', degree=3, gamma='scale', kernel='linear',\n",
       "    max_iter=-1, probability=False, random_state=None, shrinking=True,\n",
       "    tol=0.001, verbose=False)"
      ]
     },
     "execution_count": 356,
     "metadata": {},
     "output_type": "execute_result"
    }
   ],
   "source": [
    "svm_model.fit(X_train, y_train)"
   ]
  },
  {
   "cell_type": "code",
   "execution_count": 357,
   "metadata": {},
   "outputs": [
    {
     "name": "stdout",
     "output_type": "stream",
     "text": [
      "Support Vector Machine Results \n",
      "\n",
      "======= Confusion Matrix =======\n",
      "[[ 59   7]\n",
      " [ 21 107]] \n",
      "\n",
      "======= Classification Report =======\n",
      "              precision    recall  f1-score   support\n",
      "\n",
      "           0       0.74      0.89      0.81        66\n",
      "           1       0.94      0.84      0.88       128\n",
      "\n",
      "    accuracy                           0.86       194\n",
      "   macro avg       0.84      0.86      0.85       194\n",
      "weighted avg       0.87      0.86      0.86       194\n",
      " \n",
      "\n",
      "======= Accuracy =======\n",
      "True Positive Rate:  0.7375\n",
      "True Negative Rate:  0.9385964912280702\n",
      "False Positive Rate:  0.06140350877192982\n",
      "False Negative Rate:  0.2625\n",
      "AUC Score: 0.8649384469696969\n",
      "Mean Accuracy:  0.8556701030927835\n"
     ]
    },
    {
     "data": {
      "image/png": "[encoded data removed]",
      "text/plain": [
       "<Figure size 600x400 with 2 Axes>"
      ]
     },
     "metadata": {},
     "output_type": "display_data"
    }
   ],
   "source": [
    "model_analysis(y_test, X_test, svm_model, 'Support Vector Machine')"
   ]
  },
  {
   "cell_type": "markdown",
   "metadata": {},
   "source": [
    "#### Gaussian Naive Bayes"
   ]
  },
  {
   "cell_type": "code",
   "execution_count": 358,
   "metadata": {
    "collapsed": true
   },
   "outputs": [],
   "source": [
    "from sklearn.datasets import load_iris\n",
    "from sklearn.naive_bayes import GaussianNB"
   ]
  },
  {
   "cell_type": "code",
   "execution_count": 359,
   "metadata": {},
   "outputs": [],
   "source": [
    "gnb = GaussianNB()"
   ]
  },
  {
   "cell_type": "code",
   "execution_count": 360,
   "metadata": {},
   "outputs": [
    {
     "data": {
      "text/plain": [
       "GaussianNB(priors=None, var_smoothing=1e-09)"
      ]
     },
     "execution_count": 360,
     "metadata": {},
     "output_type": "execute_result"
    }
   ],
   "source": [
    "gnb.fit(X_train, y_train)"
   ]
  },
  {
   "cell_type": "code",
   "execution_count": 361,
   "metadata": {},
   "outputs": [
    {
     "name": "stdout",
     "output_type": "stream",
     "text": [
      "Gaussian Naive Bayes Results \n",
      "\n",
      "======= Confusion Matrix =======\n",
      "[[ 54  12]\n",
      " [ 14 114]] \n",
      "\n",
      "======= Classification Report =======\n",
      "              precision    recall  f1-score   support\n",
      "\n",
      "           0       0.79      0.82      0.81        66\n",
      "           1       0.90      0.89      0.90       128\n",
      "\n",
      "    accuracy                           0.87       194\n",
      "   macro avg       0.85      0.85      0.85       194\n",
      "weighted avg       0.87      0.87      0.87       194\n",
      " \n",
      "\n",
      "======= Accuracy =======\n",
      "True Positive Rate:  0.7941176470588235\n",
      "True Negative Rate:  0.9047619047619048\n",
      "False Positive Rate:  0.09523809523809523\n",
      "False Negative Rate:  0.20588235294117646\n",
      "AUC Score: 0.854403409090909\n",
      "Mean Accuracy:  0.865979381443299\n"
     ]
    },
    {
     "data": {
      "image/png": "[encoded data removed]",
      "text/plain": [
       "<Figure size 600x400 with 2 Axes>"
      ]
     },
     "metadata": {},
     "output_type": "display_data"
    }
   ],
   "source": [
    "model_analysis(y_test, X_test, gnb, 'Gaussian Naive Bayes')"
   ]
  },
  {
   "cell_type": "markdown",
   "metadata": {},
   "source": [
    "#### XGBoost"
   ]
  },
  {
   "cell_type": "code",
   "execution_count": 362,
   "metadata": {},
   "outputs": [],
   "source": [
    "from xgboost import XGBClassifier"
   ]
  },
  {
   "cell_type": "code",
   "execution_count": 363,
   "metadata": {},
   "outputs": [],
   "source": [
    "xgboost = XGBClassifier()"
   ]
  },
  {
   "cell_type": "code",
   "execution_count": 364,
   "metadata": {},
   "outputs": [
    {
     "data": {
      "text/plain": [
       "XGBClassifier(base_score=0.5, booster='gbtree', colsample_bylevel=1,\n",
       "              colsample_bynode=1, colsample_bytree=1, gamma=0,\n",
       "              learning_rate=0.1, max_delta_step=0, max_depth=3,\n",
       "              min_child_weight=1, missing=None, n_estimators=100, n_jobs=1,\n",
       "              nthread=None, objective='binary:logistic', random_state=0,\n",
       "              reg_alpha=0, reg_lambda=1, scale_pos_weight=1, seed=None,\n",
       "              silent=None, subsample=1, verbosity=1)"
      ]
     },
     "execution_count": 364,
     "metadata": {},
     "output_type": "execute_result"
    }
   ],
   "source": [
    "xgboost.fit(X_train, y_train)"
   ]
  },
  {
   "cell_type": "code",
   "execution_count": 365,
   "metadata": {},
   "outputs": [
    {
     "name": "stdout",
     "output_type": "stream",
     "text": [
      "XGBoost Results \n",
      "\n",
      "======= Confusion Matrix =======\n",
      "[[ 53  13]\n",
      " [  9 119]] \n",
      "\n",
      "======= Classification Report =======\n",
      "              precision    recall  f1-score   support\n",
      "\n",
      "           0       0.85      0.80      0.83        66\n",
      "           1       0.90      0.93      0.92       128\n",
      "\n",
      "    accuracy                           0.89       194\n",
      "   macro avg       0.88      0.87      0.87       194\n",
      "weighted avg       0.89      0.89      0.89       194\n",
      " \n",
      "\n",
      "======= Accuracy =======\n",
      "True Positive Rate:  0.8548387096774194\n",
      "True Negative Rate:  0.9015151515151515\n",
      "False Positive Rate:  0.09848484848484848\n",
      "False Negative Rate:  0.14516129032258066\n",
      "AUC Score: 0.8663589015151515\n",
      "Mean Accuracy:  0.8865979381443299\n"
     ]
    },
    {
     "data": {
      "image/png": "[encoded data removed]",
      "text/plain": [
       "<Figure size 600x400 with 2 Axes>"
      ]
     },
     "metadata": {},
     "output_type": "display_data"
    }
   ],
   "source": [
    "model_analysis(y_test, X_test, xgboost, 'XGBoost')"
   ]
  },
  {
   "cell_type": "code",
   "execution_count": null,
   "metadata": {},
   "outputs": [],
   "source": []
  },
  {
   "cell_type": "code",
   "execution_count": null,
   "metadata": {
    "collapsed": true
   },
   "outputs": [],
   "source": []
  }
 ],
 "metadata": {
  "anaconda-cloud": {},
  "kernelspec": {
   "display_name": "Python [Root]",
   "language": "python",
   "name": "Python [Root]"
  },
  "language_info": {
   "codemirror_mode": {
    "name": "ipython",
    "version": 3
   },
   "file_extension": ".py",
   "mimetype": "text/x-python",
   "name": "python",
   "nbconvert_exporter": "python",
   "pygments_lexer": "ipython3",
   "version": "3.5.2"
  }
 },
 "nbformat": 4,
 "nbformat_minor": 1
}
